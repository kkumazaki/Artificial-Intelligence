{
 "cells": [
  {
   "cell_type": "markdown",
   "metadata": {
    "graffitiCellId": "id_qq1t7ap"
   },
   "source": [
    "## Dijkstra's Shortest Path Algorithm\n",
    "Suppose there is graph having nodes, where each node represents a city. A few pair of nodes are connected to each other, with their distance mentioned on the conneting edge, as shown in the figure below:\n",
    "<img style=\"float: center;height:250px;\" src=\"graph1.png\"><br>\n",
    "\n",
    "To find the shortest path from a given source to destination node in the example above, a Greedy approach would be - *At each current node, keep track of the nearest neighbour. We can determine the path in the reverse order once we have a table of nearest neighbours (optimal previous nodes).* For example, C is the optimal previous node for E. This way, the shortest path from `A` to `E` would be `A --> D --> C --> E`, as shown below:\n",
    "<img style=\"float: center;height:250px;\" src=\"graph2.png\"><br>\n",
    "\n",
    "And, if we wish to print the distance of each node from `A`, then it would look like:\n",
    "<img style=\"float: center;height:250px;\" src=\"graph3.png\"><br>\n",
    "\n",
    "Here, the **Previous Optimal Node** is the \"best\" node which could lead us to the current node. \n",
    "\n",
    "## The Problem\n",
    "Using Dijkstra's algorithm, find the shortest path to all the nodes starting from a given single source node.  You need to print the distance of each node from the given source node. For the example quoted above, the distance of each node from `A` would be printed as:<br>\n",
    "```\n",
    "{'A': 0, 'D': 2, 'B': 5, 'E': 4, 'C': 3, 'F': 6}\n",
    "```"
   ]
  },
  {
   "cell_type": "markdown",
   "metadata": {
    "graffitiCellId": "id_75htzek"
   },
   "source": [
    "## The Algorithm\n",
    "1. Create a `result` dictionary. At the end of the program, `result` will have the shortest distance (value) for all nodes (key) in the graph. For our example, it will become as `{'A': 0, 'B': 5, 'C': 3, 'D': 2, 'F': 6, 'E': 4}`<br><br>\n",
    "1. Start with the source node. Distance from source to source itself is 0.  <br><br>\n",
    "1. The distance to all other nodes from the source is unknown initially, therefore set the initial distance to infinity.  <br><br>\n",
    "1. Create a set `unvisited` containing nodes that have not been visited. Initially, it will have all nodes of the graph.<br><br>\n",
    "1. Create a `path` dictionary that keeps track of the previous node (value) that can lead to the current node (key). At the end of the program, for our example, it will become as `{'B': 'A', 'C': 'D', 'D': 'A', 'F': 'C', 'E': 'C'}`. <br><br>\n",
    "1. As long as `unvisited` is non-empty, repeat the following:\n",
    " - Find the unvisited node having smallest known distance from the source node.  <br><br>\n",
    " - For the current node, find all the **unvisited neighbours**. For this, you have calculate the distance of each unvisited neighbour.  <br><br>\n",
    " - If the calculated distance of the **unvisited neighbour** is less than the already known distance in `result` dictionary, update the shortest distance in the `result` dictionary. <br><br>\n",
    " - If there is an update in the `result` dictionary, you need to update the `path` dictionary as well for the same key. <br><br>\n",
    " - Remove the current node from the `unvisited` set.\n",
    "\n",
    "\n",
    "**Note** - This implementation of the Dijkstra's algorithm is not very efficient. Currently it has a *O(n^2)* time complexity. We will see a better version in the next lesson - \"Graph Algorithms\" with *O(nlogn)* time complexity."
   ]
  },
  {
   "cell_type": "code",
   "execution_count": 1,
   "metadata": {
    "graffitiCellId": "id_kowh9ph"
   },
   "outputs": [],
   "source": [
    "# Helper Code\n",
    "from collections import defaultdict\n",
    "class Graph:\n",
    "    def __init__(self):\n",
    "        self.nodes = set()                   # A set cannot contain duplicate nodes\n",
    "        self.neighbours = defaultdict(list)  # Defaultdict is a child class of Dictionary that provides a default value for a key that does not exists.\n",
    "        self.distances = {}                  # Dictionary. An example record as ('A', 'B'): 6 shows the distance between 'A' to 'B' is 6 units\n",
    "\n",
    "    def add_node(self, value):\n",
    "        self.nodes.add(value)\n",
    "\n",
    "    def add_edge(self, from_node, to_node, distance):\n",
    "        self.neighbours[from_node].append(to_node)\n",
    "        self.neighbours[to_node].append(from_node)\n",
    "        self.distances[(from_node, to_node)] = distance\n",
    "        self.distances[(to_node, from_node)] = distance    # lets make the graph undirected / bidirectional \n",
    "        \n",
    "    def print_graph(self):\n",
    "        print(\"Set of Nodes are: \", self.nodes)\n",
    "        print(\"Neighbours are: \", self.neighbours)\n",
    "        print(\"Distances are: \", self.distances)"
   ]
  },
  {
   "cell_type": "markdown",
   "metadata": {
    "graffitiCellId": "id_cgrnklc"
   },
   "source": [
    "### Exercise - Write the function definition here\n"
   ]
  },
  {
   "cell_type": "code",
   "execution_count": 44,
   "metadata": {
    "graffitiCellId": "id_lo3by3j"
   },
   "outputs": [],
   "source": [
    "''' TO DO: Find the shortest path from the source node to every other node in the given graph '''\n",
    "def dijkstra(graph, source):\n",
    "    # Declare and initialize result, unvisited, and path\n",
    "    result = {source: 0}\n",
    "    unvisited = set()\n",
    "    path = {}\n",
    "    \n",
    "    for node in graph.nodes:\n",
    "        if node != source:\n",
    "            result[node] = 1000\n",
    "            \n",
    "        unvisited.add(node)\n",
    "        \n",
    "    print(\"unvisited: \")\n",
    "    print(unvisited)\n",
    "\n",
    "    \n",
    "    # As long as unvisited is non-empty\n",
    "    while unvisited: \n",
    "        \n",
    "        # 1. Find the unvisited node having smallest known distance from the source node.\n",
    "        min = 10000\n",
    "        for node in unvisited:\n",
    "            if result[node] < min:\n",
    "                current_node = node\n",
    "                min = result[node]\n",
    "        \n",
    "        print(\"----------------\")\n",
    "        print(\"current_node and neighbours: \" + current_node)\n",
    "        print(graph.neighbours[current_node])\n",
    "        \n",
    "        # 2. For the current node, find all the unvisited neighbours. For this, you have calculate the distance of each unvisited neighbour.\n",
    "        for node in graph.neighbours[current_node]:\n",
    "            distance = result[current_node] + graph.distances[(current_node, node)]\n",
    "            print(\"total distance: \" + str(distance))\n",
    "            print(\"result[node]: \" + str(result[node]))\n",
    "        \n",
    "            # 3. If the calculated distance of the unvisited neighbour is less than the already known distance in result dictionary, update the shortest distance in the result dictionary.        \n",
    "            if distance < result[node]:\n",
    "                result[node] = distance\n",
    "                # 4. If there is an update in the result dictionary, you need to update the path dictionary as well for the same key.\n",
    "                path[node] = current_node\n",
    "                    \n",
    "        # 5. Remove the current node from the unvisited set.\n",
    "        unvisited.remove(current_node)\n",
    "        print(\"after remove, unvisited and path and result: \")\n",
    "        print(unvisited)\n",
    "        print(path)\n",
    "        print(result)\n",
    "\n",
    "    return result"
   ]
  },
  {
   "cell_type": "markdown",
   "metadata": {
    "graffitiCellId": "id_o6c8r2m"
   },
   "source": [
    "<span class=\"graffiti-highlight graffiti-id_o6c8r2m-id_8a6oxze\"><i></i><button>Show Solution</button></span>"
   ]
  },
  {
   "cell_type": "markdown",
   "metadata": {
    "graffitiCellId": "id_hae4wv9"
   },
   "source": [
    "### Test - Let's test your function"
   ]
  },
  {
   "cell_type": "code",
   "execution_count": 30,
   "metadata": {
    "graffitiCellId": "id_gh91otb"
   },
   "outputs": [
    {
     "name": "stdout",
     "output_type": "stream",
     "text": [
      "unvisited: \n",
      "{'C', 'B', 'E', 'A', 'D'}\n",
      "----------------\n",
      "current_node and neighbours: A\n",
      "['B', 'D']\n",
      "after remove, unvisited and path: \n",
      "{'C', 'B', 'E', 'D'}\n",
      "{'B': 'A', 'D': 'A'}\n",
      "----------------\n",
      "current_node and neighbours: D\n",
      "['A', 'B', 'E']\n",
      "after remove, unvisited and path: \n",
      "{'C', 'B', 'E'}\n",
      "{'B': 'A', 'D': 'A', 'E': 'D'}\n",
      "----------------\n",
      "current_node and neighbours: E\n",
      "['B', 'C', 'D']\n",
      "after remove, unvisited and path: \n",
      "{'C', 'B'}\n",
      "{'B': 'A', 'D': 'E', 'E': 'D', 'C': 'E'}\n",
      "----------------\n",
      "current_node and neighbours: C\n",
      "['B', 'E']\n",
      "after remove, unvisited and path: \n",
      "{'B'}\n",
      "{'B': 'C', 'D': 'E', 'E': 'D', 'C': 'E'}\n",
      "----------------\n",
      "current_node and neighbours: B\n",
      "['A', 'D', 'E', 'C']\n",
      "after remove, unvisited and path: \n",
      "set()\n",
      "{'B': 'C', 'D': 'E', 'E': 'D', 'C': 'B'}\n",
      "{'A': 0, 'C': 1, 'B': 1, 'E': 1, 'D': 1}\n"
     ]
    }
   ],
   "source": [
    "# Test 1\n",
    "testGraph = Graph()\n",
    "for node in ['A', 'B', 'C', 'D', 'E']:\n",
    "    testGraph.add_node(node)\n",
    "\n",
    "testGraph.add_edge('A','B',3)\n",
    "testGraph.add_edge('A','D',2)\n",
    "testGraph.add_edge('B','D',4)\n",
    "testGraph.add_edge('B','E',6)\n",
    "testGraph.add_edge('B','C',1)\n",
    "testGraph.add_edge('C','E',2)\n",
    "testGraph.add_edge('E','D',1)\n",
    "\n",
    "print(dijkstra(testGraph, 'A'))     # {'A': 0, 'D': 2, 'B': 3, 'E': 3, 'C': 4}"
   ]
  },
  {
   "cell_type": "code",
   "execution_count": null,
   "metadata": {
    "graffitiCellId": "id_i5pengy"
   },
   "outputs": [],
   "source": [
    "# Test 2\n",
    "graph = Graph()\n",
    "for node in ['A', 'B', 'C']:\n",
    "    graph.add_node(node)\n",
    "    \n",
    "graph.add_edge('A', 'B', 5)\n",
    "graph.add_edge('B', 'C', 5)\n",
    "graph.add_edge('A', 'C', 10)\n",
    "\n",
    "print(dijkstra(graph, 'A'))        # {'A': 0, 'C': 10, 'B': 5}"
   ]
  },
  {
   "cell_type": "code",
   "execution_count": 43,
   "metadata": {
    "graffitiCellId": "id_mna3duu"
   },
   "outputs": [
    {
     "name": "stdout",
     "output_type": "stream",
     "text": [
      "unvisited: \n",
      "{'F', 'C', 'B', 'E', 'A', 'D'}\n",
      "----------------\n",
      "current_node and neighbours: A\n",
      "['B', 'C', 'D']\n",
      "total distance: 5\n",
      "result[node]: 1000\n",
      "total distance: 4\n",
      "result[node]: 1000\n",
      "total distance: 2\n",
      "result[node]: 1000\n",
      "after remove, unvisited and path and result: \n",
      "{'F', 'C', 'B', 'E', 'D'}\n",
      "{'B': 'A', 'C': 'A', 'D': 'A'}\n",
      "{'A': 0, 'F': 1000, 'C': 4, 'B': 5, 'E': 1000, 'D': 2}\n",
      "----------------\n",
      "current_node and neighbours: D\n",
      "['C', 'A']\n",
      "total distance: 3\n",
      "result[node]: 4\n",
      "total distance: 4\n",
      "result[node]: 0\n",
      "after remove, unvisited and path and result: \n",
      "{'F', 'C', 'B', 'E'}\n",
      "{'B': 'A', 'C': 'D', 'D': 'A'}\n",
      "{'A': 0, 'F': 1000, 'C': 3, 'B': 5, 'E': 1000, 'D': 2}\n",
      "----------------\n",
      "current_node and neighbours: C\n",
      "['A', 'D', 'B', 'F', 'E']\n",
      "total distance: 7\n",
      "result[node]: 0\n",
      "total distance: 4\n",
      "result[node]: 2\n",
      "total distance: 5\n",
      "result[node]: 5\n",
      "total distance: 3\n",
      "result[node]: 1000\n",
      "total distance: 1\n",
      "result[node]: 1000\n",
      "after remove, unvisited and path and result: \n",
      "{'F', 'B', 'E'}\n",
      "{'B': 'A', 'C': 'D', 'D': 'A', 'F': 'C', 'E': 'C'}\n",
      "{'A': 0, 'F': 3, 'C': 3, 'B': 5, 'E': 1, 'D': 2}\n",
      "----------------\n",
      "current_node and neighbours: E\n",
      "['F', 'C']\n",
      "total distance: 3\n",
      "result[node]: 3\n",
      "total distance: 2\n",
      "result[node]: 3\n",
      "after remove, unvisited and path and result: \n",
      "{'F', 'B'}\n",
      "{'B': 'A', 'C': 'E', 'D': 'A', 'F': 'C', 'E': 'C'}\n",
      "{'A': 0, 'F': 3, 'C': 2, 'B': 5, 'E': 1, 'D': 2}\n",
      "----------------\n",
      "current_node and neighbours: F\n",
      "['B', 'C', 'E']\n",
      "total distance: 5\n",
      "result[node]: 5\n",
      "total distance: 6\n",
      "result[node]: 2\n",
      "total distance: 5\n",
      "result[node]: 1\n",
      "after remove, unvisited and path and result: \n",
      "{'B'}\n",
      "{'B': 'A', 'C': 'E', 'D': 'A', 'F': 'C', 'E': 'C'}\n",
      "{'A': 0, 'F': 3, 'C': 2, 'B': 5, 'E': 1, 'D': 2}\n",
      "----------------\n",
      "current_node and neighbours: B\n",
      "['A', 'C', 'F']\n",
      "total distance: 10\n",
      "result[node]: 0\n",
      "total distance: 7\n",
      "result[node]: 2\n",
      "total distance: 7\n",
      "result[node]: 3\n",
      "after remove, unvisited and path and result: \n",
      "set()\n",
      "{'B': 'A', 'C': 'E', 'D': 'A', 'F': 'C', 'E': 'C'}\n",
      "{'A': 0, 'F': 3, 'C': 2, 'B': 5, 'E': 1, 'D': 2}\n",
      "{'A': 0, 'F': 3, 'C': 2, 'B': 5, 'E': 1, 'D': 2}\n"
     ]
    }
   ],
   "source": [
    "# Test 3\n",
    "graph = Graph()\n",
    "for node in ['A', 'B', 'C', 'D', 'E', 'F']:\n",
    "    graph.add_node(node)\n",
    "    \n",
    "graph.add_edge('A', 'B', 5)\n",
    "graph.add_edge('A', 'C', 4)\n",
    "graph.add_edge('D', 'C', 1)\n",
    "graph.add_edge('B', 'C', 2)\n",
    "graph.add_edge('A', 'D', 2)\n",
    "graph.add_edge('B', 'F', 2)\n",
    "graph.add_edge('C', 'F', 3)\n",
    "graph.add_edge('E', 'F', 2)\n",
    "graph.add_edge('C', 'E', 1)\n",
    "\n",
    "print(dijkstra(graph, 'A'))       # {'A': 0, 'C': 3, 'B': 5, 'E': 4, 'D': 2, 'F': 6}"
   ]
  },
  {
   "cell_type": "code",
   "execution_count": null,
   "metadata": {
    "graffitiCellId": "id_xa1hrwg"
   },
   "outputs": [],
   "source": []
  }
 ],
 "metadata": {
  "graffiti": {
   "firstAuthorId": "af9e0b36-2ad2-11ea-83c4-a78dc7ef519f",
   "id": "id_muf5xfw",
   "language": "EN"
  },
  "kernelspec": {
   "display_name": "Python 3",
   "language": "python",
   "name": "python3"
  },
  "language_info": {
   "codemirror_mode": {
    "name": "ipython",
    "version": 3
   },
   "file_extension": ".py",
   "mimetype": "text/x-python",
   "name": "python",
   "nbconvert_exporter": "python",
   "pygments_lexer": "ipython3",
   "version": "3.6.3"
  }
 },
 "nbformat": 4,
 "nbformat_minor": 2
}
